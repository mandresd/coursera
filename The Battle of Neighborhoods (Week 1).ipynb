{
 "cells": [
  {
   "cell_type": "markdown",
   "metadata": {},
   "source": [
    "# 1.  A description of the problem and a discussion of the background.\n"
   ]
  },
  {
   "cell_type": "markdown",
   "metadata": {},
   "source": [
    "Madrid is the capital of bars, it is one of the hospitality epicenters of the world.\n",
    "Experts attribute this tendency to the personality of the average citizen of Madrid who is extroverted, cosmopolitan and given to going out of the house for his leisure and recreation. It is one of the attractions that tourists come looking for when they visit this city. For this reason we are studying the possibility of opening a bar specially oriented to international tourism, so we want to identify in which areas the most important and most visited places in Madrid are located, since this will depend on whether we have more or fewer clients and, consequently, more or less profits.\n"
   ]
  },
  {
   "cell_type": "markdown",
   "metadata": {},
   "source": [
    "# 2. A description of the data and how it will be used to solve the problem. "
   ]
  },
  {
   "cell_type": "markdown",
   "metadata": {},
   "source": [
    "Based on definition of our problem, factors that will influence our decision are:\n",
    "\n",
    "*   Number of existing bar in the neighborhoods (any kind of pub / bar)\n",
    "*   Number of most popular places in the neighborhoods.\n",
    "\n",
    "We´ll obtein the different data from the next origins:\n",
    "\n",
    "*\tCapture the Madrid´s neighborhood: https://www.geonames.org/postalcode-search.html?q=madrid&country=ES\n",
    "*\tLocation of neighborhood will be determined by coordinates added using geocoder\n",
    "*\tNumber of 100 venues in Madrid, its localitation and its type using Foursquare API.\n"
   ]
  }
 ],
 "metadata": {
  "kernelspec": {
   "display_name": "Python 3",
   "language": "python",
   "name": "python3"
  },
  "language_info": {
   "codemirror_mode": {
    "name": "ipython",
    "version": 3
   },
   "file_extension": ".py",
   "mimetype": "text/x-python",
   "name": "python",
   "nbconvert_exporter": "python",
   "pygments_lexer": "ipython3",
   "version": "3.7.6"
  }
 },
 "nbformat": 4,
 "nbformat_minor": 4
}
