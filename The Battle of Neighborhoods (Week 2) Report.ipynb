{
 "cells": [
  {
   "cell_type": "markdown",
   "metadata": {},
   "source": [
    "# 1. Introduction where you discuss the business problem and who would be interested in this project"
   ]
  },
  {
   "cell_type": "markdown",
   "metadata": {},
   "source": [
    "Madrid is the capital of bars, it is one of the hospitality epicenters of the world.\n",
    "Experts attribute this tendency to the personality of the average citizen of Madrid who is extroverted, cosmopolitan and given to going out of the house for his leisure and recreation. It is one of the attractions that tourists come looking for when they visit this city. For this reason we are studying the possibility of opening a bar specially oriented to international tourism, so we want to identify in which areas the most important and most visited places in Madrid are located, since this will depend on whether we have more or fewer clients and, consequently, more or less profits.\n",
    "Anyone who would like to invest in a Bar in Madrid could be interested in this project."
   ]
  },
  {
   "cell_type": "markdown",
   "metadata": {},
   "source": [
    "# 2. Data where you describe the data that will be used to solve the problem and the source of the data."
   ]
  },
  {
   "cell_type": "markdown",
   "metadata": {},
   "source": [
    "Based on definition of our problem, factors that will influence our decision are:\n",
    "*\tNumber of most popular places in the neighborhoods.\n",
    "\n",
    "We´ll obtein the different data from the next origins:\n",
    "\n",
    "*\tCapture the Madrid´s neighborhood: https://www.geonames.org/postalcode-search.html?q=madrid&country=ES\n",
    "*\tLocation of neighborhood will be determined by coordinates added using geocoder\n",
    "*\tNumber of 100 venues in Madrid, its localitation and its type using Foursquare API.\n",
    "\n"
   ]
  },
  {
   "cell_type": "markdown",
   "metadata": {},
   "source": [
    "# 3. Methodology section which represents the main component of the report where you discuss and describe any exploratory data analysis that you did, any inferential statistical testing that you performed, if any, and what machine learnings were used and why."
   ]
  },
  {
   "cell_type": "markdown",
   "metadata": {},
   "source": [
    "We will develop next phases for assure the success of the project:\n",
    "## 3.1 Business understanding (Objectives and requirements from a non-technical perspective)\n",
    "Our business objective is to open a bar in Madrid oriented to tourists and that is successful.\n",
    "\n",
    "## 3.2 Understanding the data (Familiarize yourself with the data with your business goals in mind)\n",
    "\n",
    "* Initial data collection: We have collected the data from the sources:\n",
    "\t ** https://www.geonames.org/postalcode-search.html?q=madrid&country=ES\n",
    "    ** Geocoder\n",
    "    ** Fousquare API\n",
    "\t\n",
    "* Data description.\n",
    "* Data exploration including its visualization on a map through Folium\n",
    "* Data quality verification: Checking the quantity of missing values\n",
    "\n",
    "## 3.3 Preparing the data (Get the mineable view or dataset)\n",
    "* Selection of data\n",
    "* Data cleaning: Handling duplicates and missing valuesConstrucción de datos\n",
    "* Data construction\n",
    "* Data integration\n",
    "* ata formatting\n",
    "\n",
    "## 3.4 Modeling (Apply data mining techniques to datasets)\n",
    "\n",
    "* Selection of the modeling technique: Cluster through the k-means algorithm\n",
    "* Evaluation design\n",
    "* Model construction\n",
    "\n",
    "The selected modeling technique is an unsupervised k-means algorithm. Firstly, the elbow technique has been applied to determine the optimal number of clusters. Although the graph is not entirely explanatory, we have selected 5 clusters, distributed most of observations in one of them.\n"
   ]
  },
  {
   "cell_type": "markdown",
   "metadata": {},
   "source": [
    "# 4.Results section where you discuss the results."
   ]
  },
  {
   "cell_type": "markdown",
   "metadata": {},
   "source": [
    "After fit the k-means algorithms, we have get 5 different clusters:\n",
    "*    Cluster 0: Industrial zone\n",
    "*    Cluster 1: Torurism and going out zone\n",
    "*    Cluster 2: Residencial and going out zone\n",
    "*    Clusetr 3: Residencial zone\n",
    "*    Cluster 4: Residencia and industrial zone"
   ]
  },
  {
   "cell_type": "markdown",
   "metadata": {},
   "source": [
    "# 5.Discussion section where you discuss any observations you noted and any recommendations you can make based on the results."
   ]
  },
  {
   "cell_type": "markdown",
   "metadata": {},
   "source": [
    "Taking into account our final objective, we believe that the cluster where our bar should be integrated would be at number == 1, since it is the one that best represents tourism within the city, determined above all by Hotels, Tapas Restaurants, Concert Hall and Shops. For that, our recommendation if you are planed opening a bar in Madrid focused in international tourism,  is that you open it inside de cluser 1"
   ]
  },
  {
   "cell_type": "markdown",
   "metadata": {},
   "source": [
    "# 6. Conclusion section where you conclude the report."
   ]
  },
  {
   "cell_type": "markdown",
   "metadata": {},
   "source": [
    "Opening a tourism-oriented bar in the capital of bar tourism is always good business. But, for this business to be as successful as possible, the following factors should be taken into account:\n",
    "* Choose the best neighborhood for it. Based on our model, we recommend you choose the cluster neighborhoods == 1\n",
    "* Take into account the costs of premises in said neighborhood, since tourist areas usually have a fairly high rental price"
   ]
  }
 ],
 "metadata": {
  "kernelspec": {
   "display_name": "Python 3",
   "language": "python",
   "name": "python3"
  },
  "language_info": {
   "codemirror_mode": {
    "name": "ipython",
    "version": 3
   },
   "file_extension": ".py",
   "mimetype": "text/x-python",
   "name": "python",
   "nbconvert_exporter": "python",
   "pygments_lexer": "ipython3",
   "version": "3.7.6"
  }
 },
 "nbformat": 4,
 "nbformat_minor": 4
}
